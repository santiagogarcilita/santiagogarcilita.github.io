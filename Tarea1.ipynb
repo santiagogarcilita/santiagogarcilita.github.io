{
  "cells": [
    {
      "cell_type": "markdown",
      "metadata": {
        "id": "view-in-github",
        "colab_type": "text"
      },
      "source": [
        "<a href=\"https://colab.research.google.com/github/santiagogarcilita/santiagogarcilita.github.io/blob/main/Tarea1.ipynb\" target=\"_parent\"><img src=\"https://colab.research.google.com/assets/colab-badge.svg\" alt=\"Open In Colab\"/></a>"
      ]
    },
    {
      "cell_type": "markdown",
      "id": "ee407290",
      "metadata": {
        "id": "ee407290"
      },
      "source": [
        "> <h2 style=\"color:darkorange\"> $\\ll\\!\\!\\prec\\quad$ Tarea 1 $\\quad\\succ\\!\\!\\gg$ </h2>\n",
        "\n",
        "> $\\quad$ ENTREGA máximo - 2 de octubre antes de la clase\n",
        "\n",
        "> Resolver 4 ejercicios con lo que hemos visto en clases hasta ahora."
      ]
    },
    {
      "cell_type": "markdown",
      "source": [
        "### Santiago Garcilita Arguello"
      ],
      "metadata": {
        "id": "6ZsBsIWRcD2m"
      },
      "id": "6ZsBsIWRcD2m"
    },
    {
      "cell_type": "markdown",
      "id": "493b32f1",
      "metadata": {
        "id": "493b32f1"
      },
      "source": [
        "1. Tenemos dos listas de números enteros:\n",
        "\n",
        "$$a = [a_0,\\,a_1,\\,a_2,\\,...,\\,a_n]\\qquad\\mbox{y}\\qquad b = [b_0,\\,b_1,\\,b_2,\\,...,\\,b_m],$$\n",
        "\n",
        "que cumplen $\\ a_i < a_{i+1}\\ $  y  $\\ b_i < b_{i+1}$, es decir, las listas están ordenadas en forma ascendente.\n",
        "\n",
        "Crear un programa que cree una tercera lista ordenada ascendentemente que contenga todos los elementos de $a$ y de $b$ sin utilizar ningún método de ordenamiento preprogramado.\n",
        "\n",
        "Note que si prueba su algoritmo con dos listas que no estén ordenadas, el resultado NO debería estar ordenado, de lo contrario, está haciendo algo mal."
      ]
    },
    {
      "cell_type": "code",
      "execution_count": null,
      "id": "73ccc1b5",
      "metadata": {
        "id": "73ccc1b5"
      },
      "outputs": [],
      "source": [
        "a = [1,2,3]\n",
        "b = [-1,3,4,5,6]\n",
        "\n",
        "## este tipo de cosas no están permitidas\n",
        "## res = sorted(a+b)\n",
        "\n",
        "## crear su propio metodo de ordenamiento y usarlo para ordenar\n",
        "\n",
        "\n",
        "res = [-1, 1, 2, 3, 3, 4, 5, 6]"
      ]
    },
    {
      "cell_type": "code",
      "source": [
        "c = a+b\n",
        "\n",
        "c"
      ],
      "metadata": {
        "id": "kPWpxwGBX_qS"
      },
      "id": "kPWpxwGBX_qS",
      "execution_count": null,
      "outputs": []
    },
    {
      "cell_type": "code",
      "execution_count": null,
      "id": "7bdcc4ee",
      "metadata": {
        "id": "7bdcc4ee"
      },
      "outputs": [],
      "source": [
        "## prohibido usar sort, sorted o crear algun algoritmo clásico de ordenamiento (burbuja, selección, etc)\n",
        "sorted(a+b)\n",
        "\n",
        "c = a+b\n",
        "for i in range(len(c)):\n",
        "    for j in range(i, len(c)):\n",
        "        if (c[i] > c[j]):\n",
        "            c[i], c[l] = c[j], c[i]\n"
      ]
    },
    {
      "cell_type": "code",
      "execution_count": null,
      "id": "f73aac5b",
      "metadata": {
        "id": "f73aac5b"
      },
      "outputs": [],
      "source": [
        "#si al probar con estas dos listas el resultado está ordenado, tu solución está mal\n",
        "a = [1,-2,3]\n",
        "b = [-1,3,4,5,6]\n",
        "\n",
        "sorted(a+b)"
      ]
    },
    {
      "cell_type": "code",
      "execution_count": null,
      "id": "73bc5456",
      "metadata": {
        "id": "73bc5456"
      },
      "outputs": [],
      "source": [
        "a.sort()"
      ]
    },
    {
      "cell_type": "markdown",
      "id": "1dace36a",
      "metadata": {
        "id": "1dace36a"
      },
      "source": [
        "2. Escribe un programa para adivinar un número que se encuentra en el intervalo $[1,\\,100]$:  \n",
        "Considerando un número objetivo `target_num`, el programa le deberá pedir al usuario ingresar un número `input_num`. Si `input_num` > `target_num`, el programa deberá informarle al usuario que su número está por encima del número objetivo; de otra manera, si `input_num` < `target_num`, el programa deberá informarle al usuario que su número se encuentra por debajo del número objetivo. El programa se termina una vez que el usuario adivine el número objetivo, i.e., una vez que `input_num == target_num`.\n"
      ]
    },
    {
      "cell_type": "code",
      "execution_count": null,
      "id": "e72d88e3",
      "metadata": {
        "id": "e72d88e3"
      },
      "outputs": [],
      "source": [
        "# AYUDA - esto lo veremos más adelante...\n",
        "import random\n",
        "\n",
        "target_num = random.randint(1,100)\n",
        "print(target_num)"
      ]
    },
    {
      "cell_type": "code",
      "source": [
        "# Esto se corre primero\n",
        "\n",
        "input_num = 0\n",
        "target_num = random.randint(1,100)\n",
        "print(target_num)\n"
      ],
      "metadata": {
        "id": "9Mh66BZ5Mi-3"
      },
      "id": "9Mh66BZ5Mi-3",
      "execution_count": null,
      "outputs": []
    },
    {
      "cell_type": "code",
      "source": [
        "# este es el programa como tal\n",
        "\n",
        "while input_num != target_num:\n",
        "  input_num = int(input(\"Adivina el numero que estoy pensando: \"))\n",
        "\n",
        "  if input_num == target_num:\n",
        "    print(\"Bravo Felicitaciones adivinaste\")\n",
        "    break\n",
        "\n",
        "  elif input_num < target_num:\n",
        "    print(\"El numero ingresado es menor al numero que tengo en mente\")\n",
        "\n",
        "  elif input_num > target_num:\n",
        "    print(\"el numero ingresado es mayor al numero que tengo en mente\")"
      ],
      "metadata": {
        "id": "5ffF72AeMmq0"
      },
      "id": "5ffF72AeMmq0",
      "execution_count": null,
      "outputs": []
    },
    {
      "cell_type": "markdown",
      "id": "540f5f72",
      "metadata": {
        "id": "540f5f72"
      },
      "source": [
        "3. Modifica el programa anterior para que el usuario tenga a lo más 5 oportunidades de adivinar. En cada intento fallido se debe imprimir el número de intentos restantes y calcular una ganacia por adivinar en el próximo intento. La fórmula para calcular la ganacia es:\n",
        "\n",
        "$$G = \\frac{\\$1000}{2^{n-1}}$$\n",
        "\n",
        "donde $n$ es el número de intento. Además permita la opción de reinicar el juego si el usuario así lo desea.\n",
        "\n",
        "\n",
        "Ejemplo:\n",
        "\n",
        "\n",
        "```\n",
        "PROGRAMA PARA ADIVINAR UN NUMERO ENTRE 1 Y 100\n",
        "\n",
        "Adivina el número que estoy pensando, tienes 5 intentos.\n",
        "Intento 1: 50\n",
        "El número secreto es menor. Intento 2: 25\n",
        "El número secreto es menor. Intento 3: 12\n",
        "El número secreto es mayor. Intento 4: 18\n",
        "\n",
        "¡Felicidades! Has ganado $125\n",
        "\n",
        "Jugar de nuevo (s/n)? n\n",
        "\n",
        "FIN DEL JUEGO\n",
        "\n",
        "```"
      ]
    },
    {
      "cell_type": "code",
      "source": [
        "input_num = 0\n",
        "target_num = random.randint(1,100)\n",
        "print(target_num)"
      ],
      "metadata": {
        "id": "u9-bZfoeTZo_"
      },
      "id": "u9-bZfoeTZo_",
      "execution_count": null,
      "outputs": []
    },
    {
      "cell_type": "code",
      "source": [
        "#  este es el programa\n",
        "while True:\n",
        "  input_num = 0\n",
        "  target_num = random.randint(1,100)\n",
        "  intentos = 5\n",
        "\n",
        "\n",
        "  while intentos > 0 and input_num != target_num:\n",
        "    input_num = int(input(\"Adivina el numero que estoy pensando: \"))\n",
        "    premio = 1000 / 2** (intentos -1)\n",
        "\n",
        "\n",
        "    if input_num == target_num:\n",
        "      print(\"Bravo Felicitaciones adivinaste\")\n",
        "      print(f\"Tu maravilloso premio es de {premio/2}\")\n",
        "\n",
        "    elif input_num < target_num:\n",
        "      print(\"El numero ingresado es menor al numero que tengo en mente\")\n",
        "      intentos = intentos -1\n",
        "      print(f\"te quedan {intentos} intentos\")\n",
        "      if intentos > 0:\n",
        "        print(f\"Y tu premio si adivinas en la siguiente será de {premio}\")\n",
        "\n",
        "    elif input_num > target_num:\n",
        "      print(\"el numero ingresado es mayor al numero que tengo en mente\")\n",
        "      intentos = intentos -1\n",
        "      print(f\"te quedan {intentos} intentos\")\n",
        "      if intentos > 0:\n",
        "        print(f\"Y tu premio si adivinas en la siguiente será de {premio}\")\n",
        "\n",
        "\n",
        "  if intentos == 0:\n",
        "    print(f\"Intentos agotados, el numero era {target_num}\")\n",
        "\n",
        "\n",
        "  jugar_de_nuevo = input(\"¿Desea jugar de nuevo (s/n) ?\").lower()\n",
        "  if jugar_de_nuevo != \"si\":\n",
        "    print(\"Gracias por jugar, hasta luego buen dia\")\n",
        "    break\n",
        "\n",
        "\n",
        "\n",
        "\n"
      ],
      "metadata": {
        "id": "igt2Cy5gNpZq"
      },
      "id": "igt2Cy5gNpZq",
      "execution_count": null,
      "outputs": []
    },
    {
      "cell_type": "markdown",
      "id": "964ee79d",
      "metadata": {
        "id": "964ee79d"
      },
      "source": [
        "4. Tenemos en un diccionario una agenda de números telefónicos:\n",
        "\n",
        "```\n",
        "name_num = {\"Arturo\" : 123456, \"Ana\" : 234567, \"Jorge\" : 495872, \"Eduardo\" : 645322}\n",
        "\n",
        "```\n",
        "\n",
        "Crea un programa que pida al usuario un nombre y en caso de que se encuentre registrado devuelva el número telefónico.\n",
        "\n",
        "Si no está registrado, que pregunte si desea registrarlo y si es así, que pida su número (un entero de 6 dígitos) y lo agregue a la agenda."
      ]
    },
    {
      "cell_type": "markdown",
      "source": [],
      "metadata": {
        "id": "ojR-7wagdGa3"
      },
      "id": "ojR-7wagdGa3"
    },
    {
      "cell_type": "code",
      "source": [
        "name_num = {\"Arturo\" : 123456, \"Ana\" : 234567, \"Jorge\" : 495872, \"Eduardo\" : 645322}"
      ],
      "metadata": {
        "id": "TkId4T8aYZCc"
      },
      "id": "TkId4T8aYZCc",
      "execution_count": null,
      "outputs": []
    },
    {
      "cell_type": "code",
      "source": [
        "# Este es el programa\n",
        "\n",
        "persona = input(\"Ingrese un nombre: \")\n",
        "if persona in name_num:\n",
        "  print(name_num[persona])\n",
        "\n",
        "else:\n",
        "  print(\"No está registrado\")\n",
        "\n",
        "  pregunta = input(\"¿Desea registrarlo (s/n ?) \".lower())\n",
        "  if pregunta == \"si\":\n",
        "    numero = int(input(\"Ingrese su numero de 6 digitos: \"))\n",
        "    if 100000 <= numero <=999999:\n",
        "      name_num[persona] = numero\n",
        "      print(f\"{persona} ha sido registrada con el numero {numero}\")\n",
        "    else:\n",
        "        print(\"El numero indicado no es de 6 digitos\")\n",
        "  else:\n",
        "      print(\"No se ha podido registrar\")\n",
        "\n",
        "\n"
      ],
      "metadata": {
        "id": "RzDPyWsBYd2Z"
      },
      "id": "RzDPyWsBYd2Z",
      "execution_count": null,
      "outputs": []
    },
    {
      "cell_type": "code",
      "source": [
        "name_num"
      ],
      "metadata": {
        "id": "YMLW1U3QckXR"
      },
      "id": "YMLW1U3QckXR",
      "execution_count": null,
      "outputs": []
    },
    {
      "cell_type": "markdown",
      "id": "ded2440d",
      "metadata": {
        "id": "ded2440d"
      },
      "source": [
        "5. Crear un programa para transformar divisas (MXN, EUR, USD, CAD, PEN) sabiendo que:\n",
        "\n",
        "| Divisa extrangera | Ttipo de cambio (MXN) |\n",
        "|:-----------------:|:---------------------:|\n",
        "| USD  | 20.26  |\n",
        "| EUR | 21.16 |\n",
        "| PEN | 5.39 |\n",
        "| CAD | 15.71 |\n",
        "\n",
        "\n",
        "Una posible solución es construir un diccionario con todos los tipos de cambio posibles suponiendo que no hay arbitrage. Esto simplifica algunos pasos.\n",
        "\n",
        "Ejemplo 1:\n",
        "\n",
        "```\n",
        "PROGRAMA PARA CAMBIAR DE DIVISA\n",
        "\n",
        "Monto: 250\n",
        "\n",
        "Divisa local: MXN\n",
        "\n",
        "Divisa foránea: USD\n",
        "\n",
        "250 MXN = 12.34 USD\n",
        "```\n",
        "\n",
        "$$$$\n",
        "\n",
        "Ejemplo 2:\n",
        "\n",
        "```\n",
        "PROGRAMA PARA CAMBIAR DE DIVISA\n",
        "\n",
        "Monto: 5\n",
        "\n",
        "Divisa local: PEN\n",
        "\n",
        "Divisa foránea: USD\n",
        "\n",
        "5 PEN = 1.33 USD\n",
        "```\n",
        "\n",
        "$$$$\n",
        "\n",
        "Ejemplo 3:\n",
        "\n",
        "```\n",
        "PROGRAMA PARA CAMBIAR DE DIVISA\n",
        "\n",
        "Monto: 24\n",
        "\n",
        "Divisa local: PEN\n",
        "\n",
        "Divisa foránea: COP\n",
        "\n",
        "No se puede realizar la conversión porque la divisa COP es desconocida.\n",
        "```\n"
      ]
    },
    {
      "cell_type": "code",
      "source": [
        "divisas = {\"USD\" : 20.26, \"EUR\" : 21.16, \"PEN\" : 5.39, \"CAD\" : 15.71, \"MXN\" : 1}"
      ],
      "metadata": {
        "id": "CAiM3dXzcgPf"
      },
      "id": "CAiM3dXzcgPf",
      "execution_count": null,
      "outputs": []
    },
    {
      "cell_type": "code",
      "source": [
        "# funcion para cambios de divisas\n",
        "\n",
        "def cambio_divisas(monto, divisa_local, divisa_foranea):\n",
        "   divisa_local = divisa_local.upper()\n",
        "   divisa_foranea = divisa_foranea.upper()\n",
        "   if divisa_local not in divisas:\n",
        "     return (f\"No se puede completar la transaccion ya que {divisa_local} es desconocida\")\n",
        "\n",
        "   elif divisa_foranea not in divisas:\n",
        "     return (f\"No se puede completar la transaccion ya que {divisa_foranea} es desconocida\")\n",
        "\n",
        "\n",
        "\n",
        "   elif divisa_local and divisa_foranea in divisas:\n",
        "     monto = int(monto)\n",
        "   conversion = (monto * divisas[divisa_local]) / divisas[divisa_foranea]\n",
        "   return (f\"{monto}{divisa_local} = {conversion: .2f} {divisa_foranea}\")\n"
      ],
      "metadata": {
        "id": "qfrmVWttciSz"
      },
      "id": "qfrmVWttciSz",
      "execution_count": null,
      "outputs": []
    },
    {
      "cell_type": "markdown",
      "id": "045a7075",
      "metadata": {
        "id": "045a7075"
      },
      "source": [
        "[0.5 pts extra en calif final] Supongamos que en el problema anterior no se conoce la divisa CCY. Permitir al usuario agregar información del tipo de cambio de CCY a MXN y realizar la conversión deseada.\n",
        "\n",
        "Ejemplo:\n",
        "\n",
        "```\n",
        "PROGRAMA PARA CAMBIAR DE DIVISA\n",
        "\n",
        "Monto: 24\n",
        "\n",
        "Divisa local: PEN\n",
        "\n",
        "Divisa foránea: COP\n",
        "\n",
        "No hay info de la divisa COP. Desea agregarga (Y/N) ? Y\n",
        "\n",
        "Tipo de cambio COP/MXN: 0.0052\n",
        "\n",
        "24 PEN = 24976.92 COP\n",
        "```\n"
      ]
    },
    {
      "cell_type": "code",
      "execution_count": null,
      "id": "37f15724",
      "metadata": {
        "id": "37f15724"
      },
      "outputs": [],
      "source": [
        "divisas = {\"USD\": 20.26, \"EUR\": 21.16, \"PEN\": 5.39, \"CAD\": 15.71, \"MXN\": 1}\n",
        "\n",
        "def cambio_divisas_2(monto, divisa_local, divisa_foranea):\n",
        "    divisa_local = divisa_local.upper()\n",
        "    divisa_foranea = divisa_foranea.upper()\n",
        "\n",
        "    # Si la divisa local no existe\n",
        "    if divisa_local not in divisas:\n",
        "        opcion = input(f\"No hay info de la divisa {divisa_local}. ¿Desea agregarla (si/no)? \").lower()\n",
        "        if opcion == \"si\":\n",
        "            tasa = float(input(f\"Tipo de cambio {divisa_local}/MXN: \"))\n",
        "            divisas[divisa_local] = tasa\n",
        "        else:\n",
        "            return f\"No se puede completar la transacción, {divisa_local} desconocida.\"\n",
        "\n",
        "    # Si la divisa foránea no existe\n",
        "    elif divisa_foranea not in divisas:\n",
        "        opcion = input(f\"No hay info de la divisa {divisa_foranea}. ¿Desea agregarla (si/no)? \").lower()\n",
        "        if opcion == \"si\":\n",
        "            tasa = float(input(f\"Tipo de cambio {divisa_foranea}/MXN: \"))\n",
        "            divisas[divisa_foranea] = tasa\n",
        "        else:\n",
        "            return f\"No se puede completar la transacción, {divisa_foranea} desconocida.\"\n",
        "\n",
        "    # Cálculo de conversión\n",
        "    monto = float(monto)\n",
        "    monto_mxn = monto * divisas[divisa_local]\n",
        "    conversion = monto_mxn / divisas[divisa_foranea]\n",
        "    return f\"{monto:g} {divisa_local} = {conversion:.2f} {divisa_foranea}\""
      ]
    },
    {
      "cell_type": "code",
      "source": [
        "cambio_divisas_2(500, \"PEN\", \"COP\")"
      ],
      "metadata": {
        "id": "WkHMLPLvB-G3"
      },
      "id": "WkHMLPLvB-G3",
      "execution_count": null,
      "outputs": []
    }
  ],
  "metadata": {
    "kernelspec": {
      "display_name": "Python 3 (ipykernel)",
      "language": "python",
      "name": "python3"
    },
    "language_info": {
      "codemirror_mode": {
        "name": "ipython",
        "version": 3
      },
      "file_extension": ".py",
      "mimetype": "text/x-python",
      "name": "python",
      "nbconvert_exporter": "python",
      "pygments_lexer": "ipython3",
      "version": "3.10.9"
    },
    "colab": {
      "provenance": [],
      "include_colab_link": true
    }
  },
  "nbformat": 4,
  "nbformat_minor": 5
}